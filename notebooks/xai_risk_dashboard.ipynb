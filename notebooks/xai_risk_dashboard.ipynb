{
 "cells": [
  {
   "cell_type": "markdown",
   "id": "0879e696",
   "metadata": {},
   "source": [
    "\n",
    "# XAI / AI Risk Dashboard\n",
    "\n",
    "This notebook demonstrates **explainable AI (XAI)** analysis on a sample classification model, using **SHAP**.\n",
    "\n",
    "We apply SHAP explainability to understand model behavior and identify potential AI risks.\n",
    "\n",
    "---\n"
   ]
  },
  {
   "cell_type": "code",
   "execution_count": null,
   "id": "dabf998c",
   "metadata": {},
   "outputs": [],
   "source": [
    "\n",
    "import pandas as pd\n",
    "import numpy as np\n",
    "import matplotlib.pyplot as plt\n",
    "import shap\n",
    "\n",
    "from sklearn.ensemble import RandomForestClassifier\n",
    "from sklearn.model_selection import train_test_split\n",
    "from sklearn.metrics import accuracy_score\n"
   ]
  },
  {
   "cell_type": "code",
   "execution_count": null,
   "id": "57836075",
   "metadata": {},
   "outputs": [],
   "source": [
    "\n",
    "# Load dataset\n",
    "df = pd.read_csv('../data/xai_test_dataset.csv')\n",
    "df.head()\n"
   ]
  },
  {
   "cell_type": "code",
   "execution_count": null,
   "id": "3adffe0d",
   "metadata": {},
   "outputs": [],
   "source": [
    "\n",
    "# Prepare features and target\n",
    "X = df.drop(columns=['target'])\n",
    "y = df['target']\n",
    "\n",
    "# Split into train/test\n",
    "X_train, X_test, y_train, y_test = train_test_split(X, y, test_size=0.2, random_state=42)\n"
   ]
  },
  {
   "cell_type": "code",
   "execution_count": null,
   "id": "7a8c2e32",
   "metadata": {},
   "outputs": [],
   "source": [
    "\n",
    "# Train RandomForestClassifier\n",
    "model = RandomForestClassifier(n_estimators=100, random_state=42)\n",
    "model.fit(X_train, y_train)\n",
    "\n",
    "# Evaluate\n",
    "y_pred = model.predict(X_test)\n",
    "accuracy = accuracy_score(y_test, y_pred)\n",
    "print(f\"Test set accuracy: {accuracy:.2f}\")\n"
   ]
  },
  {
   "cell_type": "code",
   "execution_count": null,
   "id": "6f35345b",
   "metadata": {},
   "outputs": [],
   "source": [
    "\n",
    "# Initialize SHAP\n",
    "explainer = shap.TreeExplainer(model)\n",
    "shap_values = explainer.shap_values(X_test)\n"
   ]
  },
  {
   "cell_type": "markdown",
   "id": "b15fc43d",
   "metadata": {},
   "source": [
    "\n",
    "## Global Feature Importance (SHAP Summary Plot)\n"
   ]
  },
  {
   "cell_type": "code",
   "execution_count": null,
   "id": "b7043aa9",
   "metadata": {},
   "outputs": [],
   "source": [
    "\n",
    "# Summary plot\n",
    "shap.summary_plot(shap_values[1], X_test)\n"
   ]
  },
  {
   "cell_type": "markdown",
   "id": "c19ad6b3",
   "metadata": {},
   "source": [
    "\n",
    "## Local Explanation for Individual Sample\n"
   ]
  },
  {
   "cell_type": "code",
   "execution_count": null,
   "id": "2c3c2550",
   "metadata": {},
   "outputs": [],
   "source": [
    "\n",
    "# Select one test sample\n",
    "sample_idx = 0\n",
    "sample = X_test.iloc[[sample_idx]]\n",
    "\n",
    "# Force plot for local explanation\n",
    "shap.initjs()\n",
    "shap.force_plot(explainer.expected_value[1], shap_values[1][sample_idx], sample)\n"
   ]
  },
  {
   "cell_type": "markdown",
   "id": "80071436",
   "metadata": {},
   "source": [
    "\n",
    "## Observations\n",
    "\n",
    "- Analyze which features most influence model predictions globally.\n",
    "- Explore individual predictions using local SHAP explanations.\n",
    "\n",
    "---\n",
    "\n",
    "## Next Steps\n",
    "\n",
    "- Test with additional models.\n",
    "- Incorporate fairness analysis.\n",
    "- Align XAI results with Responsible AI governance and risk mitigation.\n",
    "\n",
    "---\n"
   ]
  }
 ],
 "metadata": {},
 "nbformat": 4,
 "nbformat_minor": 5
}
